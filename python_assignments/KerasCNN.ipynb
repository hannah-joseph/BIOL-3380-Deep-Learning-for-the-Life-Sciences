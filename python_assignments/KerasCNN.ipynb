{
  "cells": [
    {
      "cell_type": "markdown",
      "id": "72340ad8-060a-485a-9b30-ea03f88a8c96",
      "metadata": {
        "id": "72340ad8-060a-485a-9b30-ea03f88a8c96"
      },
      "source": [
        "## Imports:"
      ]
    },
    {
      "cell_type": "code",
      "execution_count": 1,
      "id": "bcfcd342-b811-4f41-8781-20cea08d08ce",
      "metadata": {
        "id": "bcfcd342-b811-4f41-8781-20cea08d08ce"
      },
      "outputs": [
        {
          "ename": "ModuleNotFoundError",
          "evalue": "No module named 'tensorflow.python'",
          "output_type": "error",
          "traceback": [
            "\u001b[1;31m---------------------------------------------------------------------------\u001b[0m",
            "\u001b[1;31mModuleNotFoundError\u001b[0m                       Traceback (most recent call last)",
            "Cell \u001b[1;32mIn[1], line 2\u001b[0m\n\u001b[0;32m      1\u001b[0m \u001b[38;5;28;01mimport\u001b[39;00m \u001b[38;5;21;01mnumpy\u001b[39;00m \u001b[38;5;28;01mas\u001b[39;00m \u001b[38;5;21;01mnp\u001b[39;00m\n\u001b[1;32m----> 2\u001b[0m \u001b[38;5;28;01mfrom\u001b[39;00m \u001b[38;5;21;01mtensorflow\u001b[39;00m \u001b[38;5;28;01mimport\u001b[39;00m keras\n\u001b[0;32m      3\u001b[0m \u001b[38;5;28;01mfrom\u001b[39;00m \u001b[38;5;21;01mtensorflow\u001b[39;00m\u001b[38;5;21;01m.\u001b[39;00m\u001b[38;5;21;01mkeras\u001b[39;00m \u001b[38;5;28;01mimport\u001b[39;00m layers\n\u001b[0;32m      4\u001b[0m get_ipython()\u001b[38;5;241m.\u001b[39mrun_line_magic(\u001b[38;5;124m'\u001b[39m\u001b[38;5;124mmatplotlib\u001b[39m\u001b[38;5;124m'\u001b[39m, \u001b[38;5;124m'\u001b[39m\u001b[38;5;124minline\u001b[39m\u001b[38;5;124m'\u001b[39m)\n",
            "File \u001b[1;32m~\\AppData\\Local\\Packages\\PythonSoftwareFoundation.Python.3.11_qbz5n2kfra8p0\\LocalCache\\local-packages\\Python311\\site-packages\\tensorflow\\__init__.py:39\u001b[0m\n\u001b[0;32m     36\u001b[0m \u001b[38;5;28;01mimport\u001b[39;00m \u001b[38;5;21;01msys\u001b[39;00m \u001b[38;5;28;01mas\u001b[39;00m \u001b[38;5;21;01m_sys\u001b[39;00m\n\u001b[0;32m     37\u001b[0m \u001b[38;5;28;01mimport\u001b[39;00m \u001b[38;5;21;01mtyping\u001b[39;00m \u001b[38;5;28;01mas\u001b[39;00m \u001b[38;5;21;01m_typing\u001b[39;00m\n\u001b[1;32m---> 39\u001b[0m \u001b[38;5;28;01mfrom\u001b[39;00m \u001b[38;5;21;01mtensorflow\u001b[39;00m\u001b[38;5;21;01m.\u001b[39;00m\u001b[38;5;21;01mpython\u001b[39;00m\u001b[38;5;21;01m.\u001b[39;00m\u001b[38;5;21;01mtools\u001b[39;00m \u001b[38;5;28;01mimport\u001b[39;00m module_util \u001b[38;5;28;01mas\u001b[39;00m _module_util\n\u001b[0;32m     40\u001b[0m \u001b[38;5;28;01mfrom\u001b[39;00m \u001b[38;5;21;01mtensorflow\u001b[39;00m\u001b[38;5;21;01m.\u001b[39;00m\u001b[38;5;21;01mpython\u001b[39;00m\u001b[38;5;21;01m.\u001b[39;00m\u001b[38;5;21;01mutil\u001b[39;00m\u001b[38;5;21;01m.\u001b[39;00m\u001b[38;5;21;01mlazy_loader\u001b[39;00m \u001b[38;5;28;01mimport\u001b[39;00m LazyLoader \u001b[38;5;28;01mas\u001b[39;00m _LazyLoader\n\u001b[0;32m     41\u001b[0m \u001b[38;5;28;01mfrom\u001b[39;00m \u001b[38;5;21;01mtensorflow\u001b[39;00m\u001b[38;5;21;01m.\u001b[39;00m\u001b[38;5;21;01mpython\u001b[39;00m\u001b[38;5;21;01m.\u001b[39;00m\u001b[38;5;21;01mutil\u001b[39;00m\u001b[38;5;21;01m.\u001b[39;00m\u001b[38;5;21;01mlazy_loader\u001b[39;00m \u001b[38;5;28;01mimport\u001b[39;00m KerasLazyLoader \u001b[38;5;28;01mas\u001b[39;00m _KerasLazyLoader\n",
            "\u001b[1;31mModuleNotFoundError\u001b[0m: No module named 'tensorflow.python'"
          ]
        }
      ],
      "source": [
        "import numpy as np\n",
        "from tensorflow import keras\n",
        "from tensorflow.keras import layers\n",
        "%matplotlib inline\n",
        "import matplotlib.pyplot as plt"
      ]
    },
    {
      "cell_type": "markdown",
      "id": "7e8122bd-d86b-463e-ab56-2f92e7731939",
      "metadata": {
        "id": "7e8122bd-d86b-463e-ab56-2f92e7731939"
      },
      "source": [
        "## Data Preparation:"
      ]
    },
    {
      "cell_type": "code",
      "execution_count": null,
      "id": "f8cec10d-3658-4563-b203-be662f5cb4fc",
      "metadata": {
        "colab": {
          "base_uri": "https://localhost:8080/"
        },
        "id": "f8cec10d-3658-4563-b203-be662f5cb4fc",
        "outputId": "396a8950-bed8-423b-88cf-d7d56db49751"
      },
      "outputs": [
        {
          "name": "stdout",
          "output_type": "stream",
          "text": [
            "Downloading data from https://storage.googleapis.com/tensorflow/tf-keras-datasets/mnist.npz\n",
            "11490434/11490434 [==============================] - 0s 0us/step\n",
            "x_train shape: (60000, 28, 28)\n",
            "60000 train samples\n",
            "10000 test samples\n"
          ]
        }
      ],
      "source": [
        "# Model / data parameters\n",
        "num_classes = 10\n",
        "input_shape = (28, 28, 1)\n",
        "\n",
        "# Load the data and split it between train and test sets\n",
        "(x_train, y_train), (x_test, y_test) = keras.datasets.mnist.load_data()\n",
        "\n",
        "# Scale images to the [0, 1] range\n",
        "x_train = x_train.astype(\"float32\") / 255\n",
        "x_test = x_test.astype(\"float32\") / 255\n",
        "\n",
        "print(\"x_train shape:\", x_train.shape)\n",
        "print(x_train.shape[0], \"train samples\")\n",
        "print(x_test.shape[0], \"test samples\")\n",
        "\n",
        "\n",
        "# convert class vectors to binary class matrices\n",
        "y_train = keras.utils.to_categorical(y_train, num_classes)\n",
        "y_test = keras.utils.to_categorical(y_test, num_classes)"
      ]
    },
    {
      "cell_type": "markdown",
      "id": "864ae8a9-7b53-4287-b4a0-5a5d01952bf9",
      "metadata": {
        "id": "864ae8a9-7b53-4287-b4a0-5a5d01952bf9",
        "tags": []
      },
      "source": [
        "## Try to build your own convolutional neural network in keras. Use 2D convolutional and max pooling layers for the first part of the network, use two of each. Use a flatten layer and a dropout layer before passing it to dense layer with softmax as output. Here is some documentation on these things that might help:\n",
        "\n",
        "* https://keras.io/api/layers/core_layers/input/\n",
        "* https://keras.io/api/layers/convolution_layers/convolution2d/\n",
        "* https://keras.io/api/layers/pooling_layers/max_pooling2d/\n",
        "* https://keras.io/api/layers/reshaping_layers/flatten/\n"
      ]
    },
    {
      "cell_type": "code",
      "execution_count": null,
      "id": "3ffdde55-1d3f-4f72-9e91-bc9599d93e82",
      "metadata": {
        "id": "3ffdde55-1d3f-4f72-9e91-bc9599d93e82"
      },
      "outputs": [],
      "source": [
        "model = keras.Sequential(\n",
        "    [\n",
        "        keras.Input(shape=input_shape),\n",
        "\n",
        "    ]\n",
        ")\n",
        "\n",
        "model.summary()"
      ]
    },
    {
      "cell_type": "markdown",
      "id": "a357dfd6-ad6e-4eae-b1a6-ec4f25f850c8",
      "metadata": {
        "id": "a357dfd6-ad6e-4eae-b1a6-ec4f25f850c8"
      },
      "source": [
        "## Use the keras compile and fit functions to prepare and train your model.\n",
        "\n",
        "* https://keras.io/api/models/model_training_apis/"
      ]
    },
    {
      "cell_type": "code",
      "execution_count": null,
      "id": "5e5cc9cf-63b2-4b93-9476-f237cf64f3c0",
      "metadata": {
        "id": "5e5cc9cf-63b2-4b93-9476-f237cf64f3c0"
      },
      "outputs": [],
      "source": [
        "# Compile and fit here\n",
        "\n",
        "\n",
        "\n",
        "\n"
      ]
    },
    {
      "cell_type": "markdown",
      "id": "8fc651e2-f302-4f13-8d4c-de93b4a2b51f",
      "metadata": {
        "id": "8fc651e2-f302-4f13-8d4c-de93b4a2b51f"
      },
      "source": [
        "## Use the keras Model evaluate function with our test data to evaluate its preformance. Print the test loss and test accuracy of the model."
      ]
    },
    {
      "cell_type": "code",
      "execution_count": null,
      "id": "24e3bb54-2c9c-4531-b9f6-dd3c2cf5310a",
      "metadata": {
        "id": "24e3bb54-2c9c-4531-b9f6-dd3c2cf5310a"
      },
      "outputs": [],
      "source": [
        "#Evaluate here\n",
        "\n",
        "\n",
        "\n",
        "\n"
      ]
    },
    {
      "cell_type": "markdown",
      "id": "bda89dbd-078b-4ba1-9897-77a68195c1f1",
      "metadata": {
        "id": "bda89dbd-078b-4ba1-9897-77a68195c1f1"
      },
      "source": [
        "## Evaluating Predictions\n",
        "\n",
        "### Change the image_index to see its predictions for other images!"
      ]
    },
    {
      "cell_type": "code",
      "execution_count": null,
      "id": "b094017d-13f9-4cac-9729-8ece35881cdb",
      "metadata": {
        "colab": {
          "base_uri": "https://localhost:8080/",
          "height": 467
        },
        "id": "b094017d-13f9-4cac-9729-8ece35881cdb",
        "outputId": "793b6acd-af64-4625-c8a0-41e30463394d"
      },
      "outputs": [
        {
          "name": "stdout",
          "output_type": "stream",
          "text": [
            "1/1 [==============================] - 0s 134ms/step\n",
            "Model prediction: 8\n"
          ]
        },
        {
          "data": {
            "image/png": "[encoded data removed]",
            "text/plain": [
              "<Figure size 640x480 with 1 Axes>"
            ]
          },
          "metadata": {},
          "output_type": "display_data"
        }
      ],
      "source": [
        "image_index = 1204\n",
        "plt.imshow(x_test[image_index].reshape(28, 28),cmap='Greys')\n",
        "pred = model.predict(np.array( [x_test[image_index],] ))\n",
        "print(\"Model prediction:\",pred.argmax())"
      ]
    },
    {
      "cell_type": "markdown",
      "id": "2899936c-6c1e-4e23-a634-21d64715ee78",
      "metadata": {
        "id": "2899936c-6c1e-4e23-a634-21d64715ee78"
      },
      "source": [
        "## Go back through the model code from the earlier sections. Modify the hyperparameters (things like the learning rate, activation function, number of epochs, number of nodes, etc).Try different dropout rates. Addidtionally, add the 'momentum' parameter to our SGD optimizer to see how that effects the preformance.\n"
      ]
    }
  ],
  "metadata": {
    "colab": {
      "provenance": []
    },
    "kernelspec": {
      "display_name": "Python 3 (ipykernel)",
      "language": "python",
      "name": "python3"
    },
    "language_info": {
      "codemirror_mode": {
        "name": "ipython",
        "version": 3
      },
      "file_extension": ".py",
      "mimetype": "text/x-python",
      "name": "python",
      "nbconvert_exporter": "python",
      "pygments_lexer": "ipython3",
      "version": "3.11.undefined"
    }
  },
  "nbformat": 4,
  "nbformat_minor": 5
}
