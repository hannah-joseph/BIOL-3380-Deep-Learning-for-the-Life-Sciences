{
  "nbformat": 4,
  "nbformat_minor": 0,
  "metadata": {
    "colab": {
      "provenance": []
    },
    "kernelspec": {
      "name": "python3",
      "display_name": "Python 3"
    },
    "language_info": {
      "name": "python"
    }
  },
  "cells": [
    {
      "cell_type": "markdown",
      "source": [
        "#Python Intro"
      ],
      "metadata": {
        "id": "OlZkId5fOJMF"
      }
    },
    {
      "cell_type": "code",
      "execution_count": null,
      "metadata": {
        "colab": {
          "base_uri": "https://localhost:8080/"
        },
        "id": "yF6-mrzrOIk9",
        "outputId": "45aae28a-488f-47c6-e40a-4fe81271d0f4"
      },
      "outputs": [
        {
          "output_type": "stream",
          "name": "stdout",
          "text": [
            "Hello World\n"
          ]
        }
      ],
      "source": [
        "print('Hello World')"
      ]
    },
    {
      "cell_type": "markdown",
      "source": [
        "#Indentation and Whitespace\n",
        "\n",
        "The indentation use of whitespace in each line of python is very important to the way it runs. In general, it makes the program more readable but is also used to manage program flow control.\n",
        "\n",
        "Here is an example with an if statement:"
      ],
      "metadata": {
        "id": "JDc4hDQAPMhh"
      }
    },
    {
      "cell_type": "code",
      "source": [
        "if(1>2):\n",
        "  print(\"One less than two\")\n",
        "\n",
        "print(\"Test\")"
      ],
      "metadata": {
        "colab": {
          "base_uri": "https://localhost:8080/"
        },
        "id": "MPuziWUpPJqV",
        "outputId": "98a6ff7c-75bb-473b-f0b7-c7afa3b5e579"
      },
      "execution_count": null,
      "outputs": [
        {
          "output_type": "stream",
          "name": "stdout",
          "text": [
            "Test\n"
          ]
        }
      ]
    },
    {
      "cell_type": "markdown",
      "source": [
        "#Variables\n",
        "\n",
        "In python, variables are created in memory when a value is assigned to it. There is no special command needed to specify the datatype, python is able to tell when type by context."
      ],
      "metadata": {
        "id": "ecFR44Z5Ud_Q"
      }
    },
    {
      "cell_type": "code",
      "source": [
        "x = 'test'\n",
        "\n",
        "print(x)"
      ],
      "metadata": {
        "colab": {
          "base_uri": "https://localhost:8080/"
        },
        "id": "FoO1Pe3CUcOn",
        "outputId": "475033d3-7c08-4882-fdc9-846065e1fd16"
      },
      "execution_count": null,
      "outputs": [
        {
          "output_type": "stream",
          "name": "stdout",
          "text": [
            "test\n"
          ]
        }
      ]
    },
    {
      "cell_type": "markdown",
      "source": [
        "In the above example, there are a few things to note. The \"name\" of the variable x. The value assigned to the variable x is the text \"test\". All text in python is stored as a string data type. The variable is passed to the print function, which prints its value.\n",
        "\n",
        "Python has many datatypes but here are some commonly used ones:\n",
        "  - Text Type:\tstr\n",
        "  - Numeric Types:\tint, float\n",
        "  - Sequence Types:\tlist, tuple\n",
        "  - Mapping Type:\tdict\n",
        "  - Set Types:\tset\n",
        "  - Boolean Type:\tbool\n",
        "\n",
        "  Variables can be overwritted to completely different data types or cast as one temporarily if needed:"
      ],
      "metadata": {
        "id": "6x05d3cmVA9C"
      }
    },
    {
      "cell_type": "code",
      "source": [
        "x = 1\n",
        "if type(x) == int:\n",
        "  print(x)\n",
        "if type(str(x)) == str:\n",
        "  print(type(x))"
      ],
      "metadata": {
        "colab": {
          "base_uri": "https://localhost:8080/"
        },
        "id": "WcaPAucnW-8j",
        "outputId": "d6421068-a39d-48a5-8971-72d86a9d213f"
      },
      "execution_count": null,
      "outputs": [
        {
          "output_type": "stream",
          "name": "stdout",
          "text": [
            "1\n",
            "<class 'int'>\n"
          ]
        }
      ]
    },
    {
      "cell_type": "markdown",
      "source": [
        "Python is also case sensitive:"
      ],
      "metadata": {
        "id": "GsRlYki2a7up"
      }
    },
    {
      "cell_type": "code",
      "source": [
        "x = 5\n",
        "X = \"FIVE\"\n",
        "print(x)\n",
        "print(X)"
      ],
      "metadata": {
        "colab": {
          "base_uri": "https://localhost:8080/"
        },
        "id": "KDvPPXVwZ7zt",
        "outputId": "71d0b719-95eb-4e4a-d77d-91418a4f5718"
      },
      "execution_count": null,
      "outputs": [
        {
          "output_type": "stream",
          "name": "stdout",
          "text": [
            "5\n",
            "FIVE\n"
          ]
        }
      ]
    },
    {
      "cell_type": "markdown",
      "source": [
        "DataType Examples:"
      ],
      "metadata": {
        "id": "fWMQQ0vmfku4"
      }
    },
    {
      "cell_type": "code",
      "source": [
        "#Ints, integers can be any number without decimals\n",
        "x = 1\n",
        "y = -654767432\n",
        "z = 5874925748923574839574839\n",
        "print(type(x),type(y),type(x))"
      ],
      "metadata": {
        "colab": {
          "base_uri": "https://localhost:8080/"
        },
        "id": "m1i_RkFDbBwC",
        "outputId": "3ae70828-f51e-4a65-e8a4-f890d7309dd4"
      },
      "execution_count": null,
      "outputs": [
        {
          "output_type": "stream",
          "name": "stdout",
          "text": [
            "<class 'int'> <class 'int'> <class 'int'>\n"
          ]
        }
      ]
    },
    {
      "cell_type": "code",
      "source": [
        "#Floats are any number, with decimal places\n",
        "x = 1.0\n",
        "y =- -3.14159\n",
        "z = 10.74538927045783901477489302\n",
        "print(type(x),type(y),type(x))\n",
        "\n",
        "\n",
        "#Casting from float to int, python will choose the number before the decimal\n",
        "print(int(z))"
      ],
      "metadata": {
        "colab": {
          "base_uri": "https://localhost:8080/"
        },
        "id": "ycAMSMo7h-OT",
        "outputId": "8f93951d-0972-45f9-acbc-dea46dc0d690"
      },
      "execution_count": null,
      "outputs": [
        {
          "output_type": "stream",
          "name": "stdout",
          "text": [
            "<class 'float'> <class 'float'> <class 'float'>\n",
            "10\n"
          ]
        }
      ]
    },
    {
      "cell_type": "code",
      "source": [
        "\n",
        "#Strings hold text, and you can make multiline strings with three quotes\n",
        "string1 = 'text'\n",
        "print(string1)\n",
        "string2 = '''text1\n",
        "text2\n",
        "text3\n",
        "'''\n",
        "print(string2)"
      ],
      "metadata": {
        "colab": {
          "base_uri": "https://localhost:8080/"
        },
        "id": "yWN9ukw1f9g_",
        "outputId": "78d5a54d-a74d-4aca-f438-f66fe49ecbce"
      },
      "execution_count": null,
      "outputs": [
        {
          "output_type": "stream",
          "name": "stdout",
          "text": [
            "text\n",
            "text1\n",
            "text2\n",
            "text3\n",
            "\n"
          ]
        }
      ]
    },
    {
      "cell_type": "code",
      "source": [
        "\n",
        "#Strings are can also be thought of as arrays of characters, and can be interacted with as such\n",
        "chars = 'string'\n",
        "print(chars[0])\n",
        "print(chars[0:3])\n",
        "#You can do operations with strings such as concatenation or checking\n",
        "print(chars+\" \"+string1)\n",
        "if string1 in string2:\n",
        "  print(string1 + \" in string2\")\n"
      ],
      "metadata": {
        "colab": {
          "base_uri": "https://localhost:8080/"
        },
        "id": "CQqMBWq4iEJd",
        "outputId": "34997087-c1cc-45e2-86eb-e9a1830e97e8"
      },
      "execution_count": null,
      "outputs": [
        {
          "output_type": "stream",
          "name": "stdout",
          "text": [
            "s\n",
            "str\n",
            "string text\n",
            "text in string2\n"
          ]
        }
      ]
    },
    {
      "cell_type": "code",
      "source": [
        "#Booleans can represtent only 2 values, True or False\n",
        "print(1<2)\n",
        "print(1>2)\n",
        "\n",
        "test = True\n",
        "c=0\n",
        "while test:\n",
        "  print(\"Inside Loop: \"+str(test))\n",
        "  if c==2:\n",
        "    test=False\n",
        "  c+=1\n",
        "print(\"Outside Loop: \"+ str(test))"
      ],
      "metadata": {
        "colab": {
          "base_uri": "https://localhost:8080/"
        },
        "id": "VoUTm0SGiH3D",
        "outputId": "1e120f5c-d8c1-4638-a484-814c20daebda"
      },
      "execution_count": null,
      "outputs": [
        {
          "output_type": "stream",
          "name": "stdout",
          "text": [
            "True\n",
            "False\n",
            "Inside Loop: True\n",
            "Inside Loop: True\n",
            "Inside Loop: True\n",
            "Outside Loop: False\n"
          ]
        }
      ]
    },
    {
      "cell_type": "code",
      "source": [
        "x = None\n",
        "print(type(x))\n",
        "print(x)"
      ],
      "metadata": {
        "colab": {
          "base_uri": "https://localhost:8080/"
        },
        "id": "MPonqo70TYut",
        "outputId": "34a0e893-af8e-4d40-9eec-85fdb856cd96"
      },
      "execution_count": null,
      "outputs": [
        {
          "output_type": "stream",
          "name": "stdout",
          "text": [
            "<class 'NoneType'>\n",
            "None\n"
          ]
        }
      ]
    },
    {
      "cell_type": "markdown",
      "source": [
        "#Lists\n",
        "\n",
        "Lists are an essential part of Python and allow you to store multiple items within a single variable. They have methods that allow for the removal and addition of items as well as length and typechecking. They can also easily be iterated through for operations."
      ],
      "metadata": {
        "id": "JxeItlImttvQ"
      }
    },
    {
      "cell_type": "code",
      "source": [
        "list1 = ['item1', 'item2', 'item3']\n",
        "list1 = list()\n",
        "print(list1)\n",
        "\n",
        "#Lists can also contain members of different data types\n",
        "list2 = [1, \"two\", False]\n",
        "print(list2)\n",
        "list2.remove(1)\n",
        "print(list2)\n",
        "list2.append(3)\n",
        "print(list2)\n",
        "list2[0] = 'one'\n",
        "print(list2)\n",
        "\n",
        "print(list2.index(False))\n"
      ],
      "metadata": {
        "colab": {
          "base_uri": "https://localhost:8080/"
        },
        "id": "a0LCFwboifkd",
        "outputId": "1d963e15-fb91-48a2-f24b-8c9f13e88551"
      },
      "execution_count": null,
      "outputs": [
        {
          "output_type": "stream",
          "name": "stdout",
          "text": [
            "['item1', 'item2', 'item3']\n",
            "[1, 'two', False]\n",
            "['two', False]\n",
            "['two', False, 3]\n",
            "['one', False, 3]\n",
            "1\n"
          ]
        }
      ]
    },
    {
      "cell_type": "markdown",
      "source": [
        "Some things about lists and other \"Collection\" variables.\n",
        "\n",
        "  - List is a collection which is ordered and changeable. Allows duplicate members.\n",
        "  - Tuple is a collection which is ordered and unchangeable. Allows duplicate members.\n",
        "  - Set is a collection which is unordered, unchangeable, and unindexed. No duplicate members.\n",
        "  - Dictionary is a collection which is ordered and changeable. No duplicate members."
      ],
      "metadata": {
        "id": "xReiJQZS5Kd0"
      }
    },
    {
      "cell_type": "code",
      "source": [
        "#Dictionaries allow for associations to be stored as key,item pairs\n",
        "dict1={\n",
        "    'item1':1,\n",
        "    'item2':2,\n",
        "    'item3':3\n",
        "}\n",
        "# dict1 = dict()\n",
        "print(dict1['item3'])"
      ],
      "metadata": {
        "colab": {
          "base_uri": "https://localhost:8080/"
        },
        "id": "qkPFeQZJubnN",
        "outputId": "4718dd41-94d0-45f5-b7ef-1579fb413a60"
      },
      "execution_count": null,
      "outputs": [
        {
          "output_type": "stream",
          "name": "stdout",
          "text": [
            "3\n"
          ]
        }
      ]
    },
    {
      "cell_type": "markdown",
      "source": [
        "# Operators"
      ],
      "metadata": {
        "id": "lomH4O4o59hz"
      }
    },
    {
      "cell_type": "code",
      "source": [
        "# Addition\n",
        "print('Addition:', 5 + 3)\n",
        "\n",
        "# Subtraction\n",
        "print('Subtraction:', 5 - 3)\n",
        "\n",
        "# Multiplication\n",
        "print('Multiplication:', 5 * 3)\n",
        "\n",
        "# Division\n",
        "print('Division:', 5 / 3)\n",
        "\n",
        "# Modulus\n",
        "print('Modulus:', 5 % 3)\n",
        "\n",
        "# Exponentiation\n",
        "print('Exponentiation:', 5 ** 3)\n",
        "\n",
        "# Floor division\n",
        "print('Floor Division:', 7 // 3)"
      ],
      "metadata": {
        "colab": {
          "base_uri": "https://localhost:8080/"
        },
        "id": "BeEiaitS54hw",
        "outputId": "70bd51f6-2e5e-4614-93fb-35f7a787111c"
      },
      "execution_count": null,
      "outputs": [
        {
          "output_type": "stream",
          "name": "stdout",
          "text": [
            "Addition: 8\n",
            "Subtraction: 2\n",
            "Multiplication: 15\n",
            "Division: 1.6666666666666667\n",
            "Modulus: 2\n",
            "Exponentiation: 125\n",
            "Floor Division: 2\n"
          ]
        }
      ]
    },
    {
      "cell_type": "code",
      "source": [
        "# Equal\n",
        "print('Equal:', 5 == 3)\n",
        "\n",
        "# Not equal\n",
        "print('Not equal:', 5 != 3)\n",
        "\n",
        "# Greater than\n",
        "print('Greater than:', 5 > 3)\n",
        "\n",
        "# Less than\n",
        "print('Less than:', 5 < 3)\n",
        "\n",
        "# Greater than or equal to\n",
        "print('Greater than or equal to:', 5 >= 3)\n",
        "\n",
        "# Less than or equal to\n",
        "print('Less than or equal to:', 5 <= 3)\n"
      ],
      "metadata": {
        "colab": {
          "base_uri": "https://localhost:8080/"
        },
        "id": "_36LvkwH7AHU",
        "outputId": "9a027908-24d0-4cba-b140-d232f2e8666d"
      },
      "execution_count": null,
      "outputs": [
        {
          "output_type": "stream",
          "name": "stdout",
          "text": [
            "Equal: False\n",
            "Not equal: True\n",
            "Greater than: True\n",
            "Less than: False\n",
            "Greater than or equal to: True\n",
            "Less than or equal to: False\n"
          ]
        }
      ]
    },
    {
      "cell_type": "code",
      "source": [
        "# Assign\n",
        "x = 5\n",
        "print('Assign:', x)\n",
        "\n",
        "# Add and assign\n",
        "x += 3\n",
        "print('Add and assign:', x)\n",
        "\n",
        "# Subtract and assign\n",
        "x -= 3\n",
        "print('Subtract and assign:', x)\n",
        "\n",
        "# Multiply and assign\n",
        "x *= 3\n",
        "print('Multiply and assign:', x)\n",
        "\n",
        "# Divide and assign\n",
        "x /= 3\n",
        "print('Divide and assign:', x)\n",
        "\n",
        "# Modulus and assign\n",
        "x %= 3\n",
        "print('Modulus and assign:', x)\n",
        "\n",
        "# Exponent and assign\n",
        "x **= 3\n",
        "print('Exponent and assign:', x)\n",
        "\n",
        "# Floor divide and assign\n",
        "x //= 3\n",
        "print('Floor divide and assign:', x)\n"
      ],
      "metadata": {
        "colab": {
          "base_uri": "https://localhost:8080/"
        },
        "id": "LMVgCbwV7SJK",
        "outputId": "dd42eeb8-f7ab-4142-e8fc-5fe90dc9f195"
      },
      "execution_count": null,
      "outputs": [
        {
          "output_type": "stream",
          "name": "stdout",
          "text": [
            "Assign: 5\n",
            "Add and assign: 8\n",
            "Subtract and assign: 5\n",
            "Multiply and assign: 15\n",
            "Divide and assign: 5.0\n",
            "Modulus and assign: 2.0\n",
            "Exponent and assign: 8.0\n",
            "Floor divide and assign: 2.0\n"
          ]
        }
      ]
    },
    {
      "cell_type": "code",
      "source": [
        "# and\n",
        "# print('and:', True && False)\n",
        "print('and:', True and False)\n",
        "\n",
        "# or\n",
        "print('or:', True or False)\n",
        "\n",
        "# not\n",
        "print('not:', not True)\n",
        "\n",
        "# in\n",
        "lst = ['a','b','c']\n",
        "print('d' in lst)\n",
        "print('in:', 'a' in 'apple')\n",
        "\n",
        "# not in\n",
        "print('not in:', 'b' not in 'apple')\n",
        "\n"
      ],
      "metadata": {
        "colab": {
          "base_uri": "https://localhost:8080/"
        },
        "id": "SdsqnX2p7j0b",
        "outputId": "901c8944-309d-4c83-8628-8fd932b09205"
      },
      "execution_count": null,
      "outputs": [
        {
          "output_type": "stream",
          "name": "stdout",
          "text": [
            "and: False\n",
            "or: True\n",
            "not: False\n",
            "False\n",
            "in: True\n",
            "not in: True\n"
          ]
        }
      ]
    },
    {
      "cell_type": "markdown",
      "source": [
        "# Control Flow\n",
        "\n",
        "Control flow refers to ways in which you as the programmer are able to decide how your lines of code are executed and when.\n",
        "\n",
        "Your main tools for this are:\n",
        "- Loops\n",
        "  - For Loops\n",
        "  - While Loops\n",
        "- Conditional Statements\n",
        "  - If/Else\n",
        "  - Assert\n",
        "\n",
        "  ## Loops"
      ],
      "metadata": {
        "id": "5fj9fn007w2E"
      }
    },
    {
      "cell_type": "code",
      "source": [
        "c=0\n",
        "while (c < 5):\n",
        "  print(c)\n",
        "  c+=1"
      ],
      "metadata": {
        "id": "4s7j_rGAW5P0",
        "colab": {
          "base_uri": "https://localhost:8080/"
        },
        "outputId": "92be07b6-3015-4237-829b-0541ada7a89f"
      },
      "execution_count": null,
      "outputs": [
        {
          "output_type": "stream",
          "name": "stdout",
          "text": [
            "0\n",
            "1\n",
            "2\n",
            "3\n",
            "4\n"
          ]
        }
      ]
    },
    {
      "cell_type": "code",
      "source": [
        "for i in range(5):\n",
        "  print(i)\n",
        "\n",
        "list1 = ['yes','yes','no','no','yes']\n",
        "for word in list1:\n",
        "  if word == \"yes\":\n",
        "    print(word)\n",
        "\n",
        "for i in range(len(list1)):\n",
        "  print(list1[i])\n",
        "\n",
        "\n"
      ],
      "metadata": {
        "colab": {
          "base_uri": "https://localhost:8080/"
        },
        "id": "p2qPgBo4WFVb",
        "outputId": "9d34a5bb-7e42-4038-bd9c-39cd065162cd"
      },
      "execution_count": null,
      "outputs": [
        {
          "output_type": "stream",
          "name": "stdout",
          "text": [
            "0\n",
            "1\n",
            "2\n",
            "3\n",
            "4\n",
            "yes\n",
            "yes\n",
            "yes\n",
            "yes\n",
            "yes\n",
            "no\n",
            "no\n",
            "yes\n"
          ]
        }
      ]
    },
    {
      "cell_type": "code",
      "source": [
        "dict1={\n",
        "    'item1':1,\n",
        "    'item2':2,\n",
        "    'item3':3\n",
        "}\n",
        "print(type(dict1.items()))\n",
        "for key,val in dict1.items():\n",
        "  print(key,val)\n",
        "print('\\n')\n",
        "for key in dict1.keys():\n",
        "  if \"3\" in key:\n",
        "    print(dict1[key])"
      ],
      "metadata": {
        "colab": {
          "base_uri": "https://localhost:8080/"
        },
        "id": "leVPulQpXPca",
        "outputId": "d9792d0e-df99-45e7-fb1a-550c2771a0da"
      },
      "execution_count": null,
      "outputs": [
        {
          "output_type": "stream",
          "name": "stdout",
          "text": [
            "<class 'dict_items'>\n",
            "item1 1\n",
            "item2 2\n",
            "item3 3\n",
            "\n",
            "\n",
            "3\n"
          ]
        }
      ]
    },
    {
      "cell_type": "markdown",
      "source": [
        "## Conditional Statements"
      ],
      "metadata": {
        "id": "1KPGvLIajYwu"
      }
    },
    {
      "cell_type": "code",
      "source": [
        "list1 = [1, 2, 3, 4, 5]\n",
        "string= \"Hello\"\n",
        "char = 'o'\n",
        "\n",
        "if 1 < 2:\n",
        "  print(\"1 is less than two\")\n",
        "\n",
        "if 1 > 2:\n",
        "  print(\"Not possible\")\n",
        "else:\n",
        "  print(\"Else!\")\n",
        "\n",
        "if 1 > 2:\n",
        "  print('Not possible')\n",
        "elif 1 > 0:\n",
        "  print(\"Elif!\")\n",
        "else:\n",
        "  print(\"Else!\")"
      ],
      "metadata": {
        "id": "pcEgqpMtXefL",
        "colab": {
          "base_uri": "https://localhost:8080/"
        },
        "outputId": "13246ee2-35d3-42d6-fe0d-4b30a92b287e"
      },
      "execution_count": null,
      "outputs": [
        {
          "output_type": "stream",
          "name": "stdout",
          "text": [
            "1 is less than two\n",
            "Else!\n",
            "Elif!\n"
          ]
        }
      ]
    },
    {
      "cell_type": "code",
      "source": [
        "x = 9\n",
        "assert(x < 10)\n",
        "print(x)"
      ],
      "metadata": {
        "colab": {
          "base_uri": "https://localhost:8080/"
        },
        "id": "i9veeoIFj2Ds",
        "outputId": "57872614-4777-4937-ac6e-fadc2b7fde82"
      },
      "execution_count": null,
      "outputs": [
        {
          "output_type": "stream",
          "name": "stdout",
          "text": [
            "9\n"
          ]
        }
      ]
    },
    {
      "cell_type": "markdown",
      "source": [
        "## Write a program to swap the first and last items of a list in python."
      ],
      "metadata": {
        "id": "f3wbK1NfqR6Q"
      }
    },
    {
      "cell_type": "code",
      "source": [
        "list1 = [1,2,3,4,5]\n",
        "# temp = list1[0]\n",
        "# list1[0] = list1[-1]\n",
        "# list1[-1] = temp\n",
        "# print(list1.index(5))"
      ],
      "metadata": {
        "id": "w3qc-93SqcYK"
      },
      "execution_count": null,
      "outputs": []
    },
    {
      "cell_type": "markdown",
      "source": [
        "## Write a program to swap any two elements in a list"
      ],
      "metadata": {
        "id": "k_bP9EEusmGD"
      }
    },
    {
      "cell_type": "code",
      "source": [
        "print(list1)\n",
        "index1 = list1.index(2)\n",
        "index2 = list1.index(4)\n",
        "list1[index1],list1[index2] = list1[index2],list1[index1]\n",
        "print(list1)"
      ],
      "metadata": {
        "id": "-sBIO0EFqp_B",
        "colab": {
          "base_uri": "https://localhost:8080/"
        },
        "outputId": "d5ec7e28-9a46-46c9-e697-639d472f41b4"
      },
      "execution_count": null,
      "outputs": [
        {
          "output_type": "stream",
          "name": "stdout",
          "text": [
            "[1, 2, 3, 4, 5]\n",
            "[1, 4, 3, 2, 5]\n"
          ]
        }
      ]
    },
    {
      "cell_type": "markdown",
      "source": [
        "## Write a program to reverse the elements in a list"
      ],
      "metadata": {
        "id": "nzFMJGaeEpZt"
      }
    },
    {
      "cell_type": "code",
      "source": [
        "list1 = [1,2,3,4,5]\n",
        "c=len(list1)-1\n",
        "list2=[]\n",
        "while c >=0:\n",
        "  list2.append(list1[c])\n",
        "  c-=1\n",
        "list1=list2\n",
        "print(list1)\n",
        "\n",
        "# for i in range(len(list1)):\n"
      ],
      "metadata": {
        "id": "Ik888CiPEwtc",
        "colab": {
          "base_uri": "https://localhost:8080/"
        },
        "outputId": "a5c6ff45-f6ff-4131-b12e-ab87394437cf"
      },
      "execution_count": null,
      "outputs": [
        {
          "output_type": "stream",
          "name": "stdout",
          "text": [
            "[5, 4, 3, 2, 1]\n"
          ]
        }
      ]
    },
    {
      "cell_type": "markdown",
      "source": [
        "## Write a program that will find the minimum of all values in the list without using the \"min\" function"
      ],
      "metadata": {
        "id": "k1O1s6qqsrS0"
      }
    },
    {
      "cell_type": "code",
      "source": [
        "list1 = [5,2,3,4,1]\n",
        "min=None\n",
        "for number in list1:\n",
        "  if min != None and min < number:\n",
        "    continue\n",
        "  else:\n",
        "    min = number\n",
        "print(min)"
      ],
      "metadata": {
        "id": "a-XBBecHtDhh",
        "colab": {
          "base_uri": "https://localhost:8080/"
        },
        "outputId": "39ee03ec-42eb-46bf-e1e8-e5b56f858511"
      },
      "execution_count": null,
      "outputs": [
        {
          "output_type": "stream",
          "name": "stdout",
          "text": [
            "1\n"
          ]
        }
      ]
    },
    {
      "cell_type": "markdown",
      "source": [
        "## Finally write a small program to sort the list from least to greatest"
      ],
      "metadata": {
        "id": "a5SllL7w3Yby"
      }
    },
    {
      "cell_type": "code",
      "source": [],
      "metadata": {
        "id": "1ed5c4tH34SI"
      },
      "execution_count": null,
      "outputs": []
    }
  ]
}